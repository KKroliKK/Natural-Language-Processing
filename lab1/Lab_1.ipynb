{
  "cells": [
    {
      "attachments": {},
      "cell_type": "markdown",
      "metadata": {},
      "source": [
        "# Imports"
      ]
    },
    {
      "cell_type": "code",
      "execution_count": 23,
      "metadata": {},
      "outputs": [],
      "source": [
        "import natasha\n",
        "import re\n",
        "from nltk.corpus import stopwords\n",
        "import nltk\n",
        "from nltk.tokenize import sent_tokenize\n"
      ]
    },
    {
      "cell_type": "markdown",
      "metadata": {
        "id": "zptEmTA4e49S"
      },
      "source": [
        "# Natural Language Processing. Lab 1\n",
        "Professor: Vladimir Ivanov\n",
        "\n",
        "Teaching Assistant: Aidar Valeev\n"
      ]
    },
    {
      "cell_type": "markdown",
      "metadata": {
        "id": "xLTldrN-vmIP"
      },
      "source": [
        "## Task 1\n",
        "Write a python program that does the following :\n",
        "1. retrieve content of a wikipedia page on a topic of your choice - english \n",
        "2. retrieve content of a wikipedia page on a topic of your choice - language of your choice (i.e russian, french)\n",
        "3. preprocess the data \n",
        "4. print distinct words statatistics, number of chapters, number of sentences, numerical values, number of entities with links"
      ]
    },
    {
      "cell_type": "code",
      "execution_count": 20,
      "metadata": {
        "id": "bTndZ9m0vjZd"
      },
      "outputs": [],
      "source": [
        "class NatashaTokenizer():\n",
        "    # stop_words = stopwords.words('russian')\n",
        "    stop_words = ['.', ',', '\"', '!', \"''\", '%', '«', '»', '“', '”', ':', '№', '=',\n",
        "                '?', '(', ')', '-', '``', '@', '#', \"'\", '—', '/', '+', '&', '*',\n",
        "                ':', ';', '_', '\\\\', '...', '\\n', '$', '[', ']', '>', '<', '..']\n",
        "\n",
        "    stop_tags = ['PUNCT', 'NUM']\n",
        "\n",
        "    def __init__(self):\n",
        "        self.segmenter = natasha.Segmenter()\n",
        "        nat_emb = natasha.NewsEmbedding()\n",
        "        self.morph_tagger = natasha.NewsMorphTagger(nat_emb)\n",
        "        self.morph_vocab = natasha.MorphVocab()\n",
        "\n",
        "    def tokenize(self, text, remove_numbers=True):\n",
        "        try:\n",
        "            doc = natasha.Doc(text)\n",
        "            doc.segment(self.segmenter)\n",
        "            doc.tag_morph(self.morph_tagger)\n",
        "            for token in doc.tokens:\n",
        "                token.lemmatize(self.morph_vocab)\n",
        "\n",
        "            def check(token):\n",
        "                if token.pos in self.stop_tags:\n",
        "                    return False\n",
        "                if token.lemma in self.stop_words:\n",
        "                    return False\n",
        "                if len(token.lemma) < 3:\n",
        "                    return False\n",
        "                if re.search('\\d', token.lemma) and remove_numbers:\n",
        "                    return False\n",
        "                return True\n",
        "\n",
        "            tokens = [token.lemma for token in doc.tokens if check(token)]\n",
        "        \n",
        "        except:\n",
        "            tokens = []\n",
        "\n",
        "        return tokens\n",
        "\n",
        "    def count_numerical(self, text):\n",
        "        try:\n",
        "            doc = natasha.Doc(text)\n",
        "            doc.segment(self.segmenter)\n",
        "            doc.tag_morph(self.morph_tagger)\n",
        "            for token in doc.tokens:\n",
        "                token.lemmatize(self.morph_vocab)\n",
        "\n",
        "            def check(token):\n",
        "                if token.pos in self.stop_tags:\n",
        "                    return False\n",
        "\n",
        "            counter = 0\n",
        "\n",
        "            for token in doc.tokens:\n",
        "                if token.pos == 'NUM':\n",
        "                    counter += 1\n",
        "        \n",
        "        except:\n",
        "            return 0\n",
        "\n",
        "        return counter\n",
        "\n",
        "tokenizer = NatashaTokenizer()"
      ]
    },
    {
      "cell_type": "code",
      "execution_count": 4,
      "metadata": {},
      "outputs": [],
      "source": [
        "english_text = '''Extreme skiing is performed on long, steep (typically from 45 to 60+ degrees, or grades of 100 to 170 percent) slopes in mountainous terrain. The French coined the term 'Le Ski Extreme' in the 1970s. The first practitioners include Swiss skier Sylvain Saudan,[2] who invented the \"windshield wiper\" turn in the mid-1960s, and in 1967 made the first descents of slopes in the Swiss, French and Italian Alps that were previously considered impossible.[3] Saudan's 'first descent' in America was at Mt. Hood March 3, 1971. Early American practitioners include Bill Briggs, who descended Grand Teton on June 15, 1971.[4] The Frenchmen Patrick Vallençant, Jean-Marc Boivin and Anselme Baud and the Italians Stefano De Benedetti and Toni Valeruz were among those who further developed the art and brought notoriety to the sport in the 1970s and 1980s.\n",
        "\n",
        "Tuckerman's Ravine, found on Mount Washington in New Hampshire, is a popular location for extreme skiing in North America.\n",
        "The key North American skiers who popularized the sport include: Doug Coombs, Shane McConkey, Seth Morrison, David W. Kraft, Glen Plake and Scot Schmidt, known as The Extreme-6 and all considered among the top extreme skiers in the world during their prime.[5]\n",
        "\n",
        "Because of the extremely long, steep slopes, and dangerous terrain, single mistakes at the wrong moment by some extreme skiers have led to them being seriously injured or killed.[6]\n",
        "\n",
        "Extreme skiing in the U.S. took off in the mid-1980s after the movie Maltese Flamingo came out in 1986, and John Cummings’ book, Hallowed Be the Extreme, documented the lifestyle of extreme skiers.[7][8]'''"
      ]
    },
    {
      "cell_type": "code",
      "execution_count": 10,
      "metadata": {},
      "outputs": [],
      "source": [
        "english_tokens = tokenizer.tokenize(english_text)"
      ]
    },
    {
      "attachments": {},
      "cell_type": "markdown",
      "metadata": {},
      "source": [
        "I tokenized text via `natasha` library."
      ]
    },
    {
      "cell_type": "code",
      "execution_count": 33,
      "metadata": {},
      "outputs": [
        {
          "data": {
            "text/plain": [
              "['extreme',\n",
              " 'skiing',\n",
              " 'performed',\n",
              " 'long',\n",
              " 'steep',\n",
              " 'typically',\n",
              " 'from',\n",
              " 'degrees',\n",
              " 'grades',\n",
              " 'percent']"
            ]
          },
          "execution_count": 33,
          "metadata": {},
          "output_type": "execute_result"
        }
      ],
      "source": [
        "english_tokens[:10]"
      ]
    },
    {
      "attachments": {},
      "cell_type": "markdown",
      "metadata": {},
      "source": [
        "Let's count words' statisitics:"
      ]
    },
    {
      "cell_type": "code",
      "execution_count": 13,
      "metadata": {},
      "outputs": [
        {
          "data": {
            "text/plain": [
              "{'extreme': 8,\n",
              " 'skiing': 3,\n",
              " 'performed': 1,\n",
              " 'long': 2,\n",
              " 'steep': 2,\n",
              " 'typically': 1,\n",
              " 'from': 1,\n",
              " 'degrees': 1,\n",
              " 'grades': 1,\n",
              " 'percent': 1,\n",
              " 'slopes': 3,\n",
              " 'mountainous': 1,\n",
              " 'terrain': 2,\n",
              " 'the': 25,\n",
              " 'french': 2,\n",
              " 'coined': 1,\n",
              " 'term': 1,\n",
              " 'ski': 1,\n",
              " 'first': 3,\n",
              " 'practitioners': 2,\n",
              " 'include': 3,\n",
              " 'swiss': 2,\n",
              " 'skier': 1,\n",
              " 'sylvain': 1,\n",
              " 'saudan': 2,\n",
              " 'who': 4,\n",
              " 'invented': 1,\n",
              " 'windshield': 1,\n",
              " 'wiper': 1,\n",
              " 'turn': 1,\n",
              " 'and': 11,\n",
              " 'made': 1,\n",
              " 'descents': 1,\n",
              " 'italian': 1,\n",
              " 'alps': 1,\n",
              " 'that': 1,\n",
              " 'were': 2,\n",
              " 'previously': 1,\n",
              " 'considered': 2,\n",
              " 'impossible': 1,\n",
              " 'descent': 1,\n",
              " 'america': 2,\n",
              " 'was': 1,\n",
              " 'hood': 1,\n",
              " 'march': 1,\n",
              " 'early': 1,\n",
              " 'american': 2,\n",
              " 'bill': 1,\n",
              " 'briggs': 1,\n",
              " 'descended': 1,\n",
              " 'grand': 1,\n",
              " 'teton': 1,\n",
              " 'june': 1,\n",
              " 'frenchmen': 1,\n",
              " 'patrick': 1,\n",
              " 'vallençant': 1,\n",
              " 'jean-marc': 1,\n",
              " 'boivin': 1,\n",
              " 'anselme': 1,\n",
              " 'baud': 1,\n",
              " 'italians': 1,\n",
              " 'stefano': 1,\n",
              " 'benedetti': 1,\n",
              " 'toni': 1,\n",
              " 'valeruz': 1,\n",
              " 'among': 2,\n",
              " 'those': 1,\n",
              " 'further': 1,\n",
              " 'developed': 1,\n",
              " 'art': 1,\n",
              " 'brought': 1,\n",
              " 'notoriety': 1,\n",
              " 'sport': 2,\n",
              " 'tuckerman': 1,\n",
              " 'ravine': 1,\n",
              " 'found': 1,\n",
              " 'mount': 1,\n",
              " 'washington': 1,\n",
              " 'new': 1,\n",
              " 'hampshire': 1,\n",
              " 'popular': 1,\n",
              " 'location': 1,\n",
              " 'for': 1,\n",
              " 'north': 2,\n",
              " 'key': 1,\n",
              " 'skiers': 4,\n",
              " 'popularized': 1,\n",
              " 'doug': 1,\n",
              " 'coombs': 1,\n",
              " 'shane': 1,\n",
              " 'mcconkey': 1,\n",
              " 'seth': 1,\n",
              " 'morrison': 1,\n",
              " 'david': 1,\n",
              " 'kraft': 1,\n",
              " 'glen': 1,\n",
              " 'plake': 1,\n",
              " 'scot': 1,\n",
              " 'schmidt': 1,\n",
              " 'known': 1,\n",
              " 'all': 1,\n",
              " 'top': 1,\n",
              " 'world': 1,\n",
              " 'during': 1,\n",
              " 'their': 1,\n",
              " 'prime': 1,\n",
              " 'because': 1,\n",
              " 'extremely': 1,\n",
              " 'dangerous': 1,\n",
              " 'single': 1,\n",
              " 'mistakes': 1,\n",
              " 'wrong': 1,\n",
              " 'moment': 1,\n",
              " 'some': 1,\n",
              " 'have': 1,\n",
              " 'led': 1,\n",
              " 'them': 1,\n",
              " 'being': 1,\n",
              " 'seriously': 1,\n",
              " 'injured': 1,\n",
              " 'killed': 1,\n",
              " 'took': 1,\n",
              " 'off': 1,\n",
              " 'after': 1,\n",
              " 'movie': 1,\n",
              " 'maltese': 1,\n",
              " 'flamingo': 1,\n",
              " 'came': 1,\n",
              " 'out': 1,\n",
              " 'john': 1,\n",
              " 'cummings': 1,\n",
              " 'book': 1,\n",
              " 'hallowed': 1,\n",
              " 'documented': 1,\n",
              " 'lifestyle': 1}"
            ]
          },
          "execution_count": 13,
          "metadata": {},
          "output_type": "execute_result"
        }
      ],
      "source": [
        "english_stat = {}\n",
        "\n",
        "for token in english_tokens:\n",
        "    try:\n",
        "        english_stat[token] += 1\n",
        "    except KeyError:\n",
        "        english_stat[token] = 1\n",
        "\n",
        "english_stat"
      ]
    },
    {
      "cell_type": "code",
      "execution_count": 16,
      "metadata": {},
      "outputs": [
        {
          "data": {
            "image/png": "[encoded data removed]",
            "text/plain": [
              "<Figure size 432x288 with 1 Axes>"
            ]
          },
          "metadata": {
            "needs_background": "light"
          },
          "output_type": "display_data"
        },
        {
          "data": {
            "text/plain": [
              "<AxesSubplot:xlabel='Samples', ylabel='Counts'>"
            ]
          },
          "execution_count": 16,
          "metadata": {},
          "output_type": "execute_result"
        }
      ],
      "source": [
        "nltk_eng_stat = nltk.FreqDist(english_stat)\n",
        "nltk_eng_stat.plot(20)"
      ]
    },
    {
      "attachments": {},
      "cell_type": "markdown",
      "metadata": {},
      "source": [
        "Number of sentences:"
      ]
    },
    {
      "cell_type": "code",
      "execution_count": 19,
      "metadata": {},
      "outputs": [
        {
          "data": {
            "text/plain": [
              "12"
            ]
          },
          "execution_count": 19,
          "metadata": {},
          "output_type": "execute_result"
        }
      ],
      "source": [
        "len(sent_tokenize(english_text))"
      ]
    },
    {
      "attachments": {},
      "cell_type": "markdown",
      "metadata": {},
      "source": [
        "I emplented method in `NatashaTokenizer` class which counts tokens with **NUM** (numerical) tags."
      ]
    },
    {
      "cell_type": "code",
      "execution_count": 21,
      "metadata": {},
      "outputs": [
        {
          "data": {
            "text/plain": [
              "18"
            ]
          },
          "execution_count": 21,
          "metadata": {},
          "output_type": "execute_result"
        }
      ],
      "source": [
        "tokenizer.count_numerical(english_text)"
      ]
    },
    {
      "cell_type": "markdown",
      "metadata": {
        "id": "Q-iN1Xgnv4Vq"
      },
      "source": [
        "## Task 2\n",
        "\n",
        "Write a python program that does the following :\n",
        "1. Retrieve data from sklearn --> (from sklearn.datasets import fetch_20newsgroups)\n",
        "2. Preprocess the data \n",
        "3. Do classification using any classical machine learning method"
      ]
    },
    {
      "cell_type": "code",
      "execution_count": 34,
      "metadata": {
        "id": "O8dX2rrLwOPT"
      },
      "outputs": [],
      "source": [
        "from sklearn.datasets import fetch_20newsgroups\n",
        "from sklearn.pipeline import Pipeline\n",
        "from sklearn.feature_extraction.text import CountVectorizer, TfidfTransformer\n",
        "from sklearn.naive_bayes import MultinomialNB\n",
        "import numpy as np"
      ]
    },
    {
      "attachments": {},
      "cell_type": "markdown",
      "metadata": {},
      "source": [
        "Let's use **TF-IDF** and **Naive Bayes** for classification."
      ]
    },
    {
      "cell_type": "code",
      "execution_count": 27,
      "metadata": {},
      "outputs": [],
      "source": [
        "train = fetch_20newsgroups(random_state=42)\n",
        "test = fetch_20newsgroups(subset='test', random_state=42)"
      ]
    },
    {
      "cell_type": "code",
      "execution_count": 30,
      "metadata": {},
      "outputs": [],
      "source": [
        "text_clf = Pipeline([('vect', CountVectorizer()),\n",
        "                     ('tfidf', TfidfTransformer()),\n",
        "                     ('clf', MultinomialNB()),\n",
        "                    ])"
      ]
    },
    {
      "cell_type": "code",
      "execution_count": 31,
      "metadata": {},
      "outputs": [],
      "source": [
        "text_clf = text_clf.fit(train.data, train.target)"
      ]
    },
    {
      "cell_type": "code",
      "execution_count": 36,
      "metadata": {},
      "outputs": [
        {
          "data": {
            "text/plain": [
              "0.7738980350504514"
            ]
          },
          "execution_count": 36,
          "metadata": {},
          "output_type": "execute_result"
        }
      ],
      "source": [
        "predicted = text_clf.predict(test.data)\n",
        "np.mean(predicted == test.target)"
      ]
    },
    {
      "cell_type": "markdown",
      "metadata": {
        "id": "p7ucTXjvhHIn"
      },
      "source": [
        "## Task 3\n",
        "\n",
        "Write a python program that does the following :\n",
        "1. Preprocess the given data\n",
        "2. Find entities in the data using regular expressions: dates, names, locations\n",
        "3. Anonymise the names of US presidents\n",
        "4. Highlight the locations\n",
        "5. Sort by dates"
      ]
    },
    {
      "cell_type": "code",
      "execution_count": 48,
      "metadata": {},
      "outputs": [],
      "source": [
        "from nltk import pos_tag\n",
        "from nltk import word_tokenize"
      ]
    },
    {
      "cell_type": "code",
      "execution_count": 44,
      "metadata": {
        "id": "hWgOrMS0EATE"
      },
      "outputs": [],
      "source": [
        "TEXT = [\n",
        "    \"Barack Obama was the 44th president of the US and he followed George W. Bush and was followed by Donald Trump in 2017\",\n",
        "    \"As a young man, George H.W. Bush served in World War II as a fighter pilot. In 1944, he was shot down and had to parachute to safety.\",\n",
        "    \"Before he was president, George W. Bush was a cheerleader, a fraternity brother, an oilman, an owner of a professional baseball team, and a governor. After leaving office in 2009, Bush learned to paint.\",\n",
        "    \"Here's something else you probably didn't know about John Adams: He died on the Fourth of July. And he wasn't the only commander in chief to do so. In fact, three of the nation's five founding fathers—Adams, Thomas Jefferson, and James Monroe—died on Independence Day. Adams and Jefferson even passed on the same exact day: July 4, 1826, which happened to be the 50th anniversary of the adoption of the Declaration of Independence.\",\n",
        "    \"At 6 feet 4 inches tall, Abraham Lincoln and Lyndon B. Johnson were America's tallest presidents. But what about America's shortest president? That distinction goes to founding father James Madison (1809-1817), who, at 5 feet 4 inches tall, was a full foot shorter than his tallest peers.\",\n",
        "    \"That changed, however, in October 1860, when Lincoln received a letter from an 11-year-old girl named Grace Bedell. 'If you will let your whiskers grow I will try and get [my brothers] to vote for you,' Bedell wrote to Lincoln. 'You would look a great deal better for your face is so thin. All the ladies like whiskers and they would tease their husbands to vote for you and then you would be president.'\",\n",
        "    \"Richard Nixon was hardly the first president who liked to unwind by rolling a few strikes. Harry S. Truman also enjoyed bowling, and opened the first White House bowling alley in 1947. \",\n",
        "    \"If you had to bet on which U.S. president was the biggest movie fan, you'd probably put your money on America's actor-turned-president, Ronald Reagan (1981-1989). And that would be a great guess. Reagan reportedly watched 363 movies during his two terms in office.\",\n",
        "    \"Thomas Jefferson offered to sell his personal library when the Library of Congress was burned by the British during the War of 1812. He sold them 6487 books from his own collection, the largest in America at the time.\",\n",
        "    \"Born in New York in 1782, Martin Van Buren was the first president to have been born after the American Revolution, technically making him the first American-born president.\",\n",
        "    \"Benjamin Harrison had a tight-knit family and loved to amuse and dote on his grandchildren. He put up the first recorded White House Christmas tree in 1889, and was known to put on the Santa suit for entertainment.\",\n",
        "    \"A 16-year-old Bill Clinton managed to shake hands with President John F. Kennedy at a Boys Nation event in 1963. This would take place just four months before Kennedy's assassination.\",\n",
        "    \"In 1993—two years before he became the governor of Texas—George W. Bush ran the Houston marathon, finishing with a time of 3:44:52. He is the only president to have ever run a marathon.\",\n",
        "]"
      ]
    },
    {
      "cell_type": "code",
      "execution_count": 47,
      "metadata": {},
      "outputs": [
        {
          "data": {
            "text/plain": [
              "[('Barack', 'NNP'),\n",
              " ('Obama', 'NNP'),\n",
              " ('was', 'VBD'),\n",
              " ('the', 'DT'),\n",
              " ('44th', 'JJ'),\n",
              " ('president', 'NN'),\n",
              " ('of', 'IN'),\n",
              " ('the', 'DT'),\n",
              " ('US', 'NNP'),\n",
              " ('and', 'CC'),\n",
              " ('he', 'PRP'),\n",
              " ('followed', 'VBD'),\n",
              " ('George', 'NNP'),\n",
              " ('W.', 'NNP'),\n",
              " ('Bush', 'NNP'),\n",
              " ('and', 'CC'),\n",
              " ('was', 'VBD'),\n",
              " ('followed', 'VBN'),\n",
              " ('by', 'IN'),\n",
              " ('Donald', 'NNP'),\n",
              " ('Trump', 'NNP'),\n",
              " ('in', 'IN'),\n",
              " ('2017', 'CD')]"
            ]
          },
          "execution_count": 47,
          "metadata": {},
          "output_type": "execute_result"
        }
      ],
      "source": [
        "text = TEXT[0]\n",
        "tokenizer = word_tokenize(text)\n",
        "pos_tag(tokenizer)"
      ]
    },
    {
      "attachments": {},
      "cell_type": "markdown",
      "metadata": {},
      "source": [
        "`nltk` can't distinguish between names and locations."
      ]
    },
    {
      "cell_type": "code",
      "execution_count": 50,
      "metadata": {
        "id": "uh9i4JE4hJx0"
      },
      "outputs": [],
      "source": [
        "names_locations = []\n",
        "dates = []\n",
        "\n",
        "for text in TEXT:\n",
        "    tokenizer = word_tokenize(text)\n",
        "    tagged_tokens = pos_tag(tokenizer)\n",
        "    names_locations_ = []\n",
        "    dates_ = []\n",
        "\n",
        "    for token, tag in tagged_tokens:\n",
        "        if tag == 'NNP':\n",
        "            names_locations_.append(token)\n",
        "        elif tag == 'CD':\n",
        "            dates_.append(token)\n",
        "\n",
        "    names_locations.append(names_locations_)\n",
        "    dates.append(dates_)"
      ]
    },
    {
      "cell_type": "code",
      "execution_count": 51,
      "metadata": {},
      "outputs": [
        {
          "data": {
            "text/plain": [
              "[['Barack', 'Obama', 'US', 'George', 'W.', 'Bush', 'Donald', 'Trump'],\n",
              " ['George', 'H.W', 'Bush', 'World', 'War', 'II'],\n",
              " ['George', 'W.', 'Bush', 'Bush'],\n",
              " ['John',\n",
              "  'Adams',\n",
              "  'Fourth',\n",
              "  'July',\n",
              "  'Thomas',\n",
              "  'Jefferson',\n",
              "  'James',\n",
              "  'Monroe—died',\n",
              "  'Independence',\n",
              "  'Day',\n",
              "  'Adams',\n",
              "  'Jefferson',\n",
              "  'July',\n",
              "  'Declaration',\n",
              "  'Independence'],\n",
              " ['Abraham',\n",
              "  'Lincoln',\n",
              "  'Lyndon',\n",
              "  'B.',\n",
              "  'Johnson',\n",
              "  'America',\n",
              "  'America',\n",
              "  'James',\n",
              "  'Madison'],\n",
              " ['October', 'Lincoln', 'Grace', 'Bedell', 'Bedell', 'Lincoln'],\n",
              " ['Richard', 'Nixon', 'Harry', 'S.', 'Truman', 'White', 'House'],\n",
              " ['U.S.', 'America', 'Ronald', 'Reagan', 'Reagan'],\n",
              " ['Thomas', 'Jefferson', 'Library', 'Congress', 'War', 'America'],\n",
              " ['Born',\n",
              "  'New',\n",
              "  'York',\n",
              "  'Martin',\n",
              "  'Van',\n",
              "  'Buren',\n",
              "  'Revolution',\n",
              "  'American-born'],\n",
              " ['Benjamin', 'Harrison', 'White', 'House', 'Christmas', 'Santa'],\n",
              " ['Bill',\n",
              "  'Clinton',\n",
              "  'President',\n",
              "  'John',\n",
              "  'F.',\n",
              "  'Kennedy',\n",
              "  'Boys',\n",
              "  'Nation',\n",
              "  'Kennedy'],\n",
              " ['Texas—George', 'W.', 'Bush', 'Houston']]"
            ]
          },
          "execution_count": 51,
          "metadata": {},
          "output_type": "execute_result"
        }
      ],
      "source": [
        "names_locations"
      ]
    },
    {
      "cell_type": "code",
      "execution_count": 52,
      "metadata": {},
      "outputs": [
        {
          "data": {
            "text/plain": [
              "[['2017'],\n",
              " ['1944'],\n",
              " ['2009'],\n",
              " ['three', 'five', '4', '1826'],\n",
              " ['6', '4', '5', '4'],\n",
              " ['1860'],\n",
              " ['1947'],\n",
              " ['363', 'two'],\n",
              " ['1812', '6487'],\n",
              " ['1782'],\n",
              " ['1889'],\n",
              " ['1963', 'four'],\n",
              " ['1993—two', '3:44:52']]"
            ]
          },
          "execution_count": 52,
          "metadata": {},
          "output_type": "execute_result"
        }
      ],
      "source": [
        "dates"
      ]
    },
    {
      "cell_type": "markdown",
      "metadata": {
        "id": "qWy26ZEfpeRk"
      },
      "source": [
        "## Task 4\n",
        "\n",
        "Write a python program that does the following :\n",
        "1. Preprocess the data from Task 3\n",
        "2. Find entities in the data using [Gazetteers](https://gatenlp.readthedocs.io/en/latest/gazetteers/) from gatenlp: dates, names, locations\n",
        "3. Anonymise the names of US presidents\n",
        "4. Highlight the locations\n",
        "5. Sort by dates\n"
      ]
    },
    {
      "cell_type": "code",
      "execution_count": null,
      "metadata": {
        "id": "ds_tRbtTJm5e"
      },
      "outputs": [],
      "source": []
    }
  ],
  "metadata": {
    "colab": {
      "provenance": []
    },
    "kernelspec": {
      "display_name": "base",
      "language": "python",
      "name": "python3"
    },
    "language_info": {
      "codemirror_mode": {
        "name": "ipython",
        "version": 3
      },
      "file_extension": ".py",
      "mimetype": "text/x-python",
      "name": "python",
      "nbconvert_exporter": "python",
      "pygments_lexer": "ipython3",
      "version": "3.8.8 (default, Apr 13 2021, 19:58:26) \n[GCC 7.3.0]"
    },
    "vscode": {
      "interpreter": {
        "hash": "82ca00de6dfeb9e2eef59d83b518ae9b61e5781747466ffa06053c845d8d3ce9"
      }
    }
  },
  "nbformat": 4,
  "nbformat_minor": 0
}
